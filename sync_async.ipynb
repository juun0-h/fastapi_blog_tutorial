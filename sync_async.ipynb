{
 "cells": [
  {
   "cell_type": "code",
   "id": "initial_id",
   "metadata": {
    "collapsed": true,
    "ExecuteTime": {
     "end_time": "2025-07-31T00:17:25.617871Z",
     "start_time": "2025-07-31T00:17:19.402452Z"
    }
   },
   "source": [
    "import time\n",
    "import requests\n",
    "\n",
    "def sync_example():\n",
    "    print(\"작업 1 시작\")\n",
    "    response1 = requests.get(\"https://httpbin.org/delay/2\")  # 2초 대기\n",
    "    print(\"작업 1 완료\")\n",
    "\n",
    "    print(\"작업 2 시작\")\n",
    "    response2 = requests.get(\"https://httpbin.org/delay/2\")  # 2초 대기\n",
    "    print(\"작업 2 완료\")\n",
    "\n",
    "    return response1, response2\n",
    "\n",
    "# 실행하면 총 4초가 걸림 (2초 + 2초)\n",
    "start = time.time()\n",
    "result = sync_example()\n",
    "print(f\"총 소요시간: {time.time() - start:.2f}초\")"
   ],
   "outputs": [
    {
     "name": "stdout",
     "output_type": "stream",
     "text": [
      "작업 1 시작\n",
      "작업 1 완료\n",
      "작업 2 시작\n",
      "작업 2 완료\n",
      "총 소요시간: 6.17초\n"
     ]
    }
   ],
   "execution_count": 2
  },
  {
   "metadata": {
    "ExecuteTime": {
     "end_time": "2025-07-31T00:25:06.015148Z",
     "start_time": "2025-07-31T00:25:01.748809Z"
    }
   },
   "cell_type": "code",
   "source": [
    "import threading\n",
    "import time\n",
    "import requests\n",
    "\n",
    "def demonstrate_gil_release():\n",
    "    \"\"\"GIL이 I/O 중에 해제되는 것을 보여주는 예제\"\"\"\n",
    "\n",
    "    def io_task(task_id):\n",
    "        print(f\"태스크 {task_id}: 시작 (스레드 {threading.current_thread().name})\\n\")\n",
    "\n",
    "        # 이 순간 GIL이 해제됩니다!\n",
    "        response = requests.get(\"https://httpbin.org/delay/2\")\n",
    "\n",
    "        print(f\"태스크 {task_id}: 완료 (스레드 {threading.current_thread().name})\")\n",
    "        return response.status_code\n",
    "\n",
    "    # 멀티스레드로 실행\n",
    "    start_time = time.time()\n",
    "    threads = []\n",
    "\n",
    "    for i in range(3):\n",
    "        thread = threading.Thread(target=io_task, args=(i,))\n",
    "        threads.append(thread)\n",
    "        thread.start()\n",
    "\n",
    "    for thread in threads:\n",
    "        thread.join()\n",
    "\n",
    "    print(f\"멀티스레드 총 시간: {time.time() - start_time:.2f}초\")\n",
    "\n",
    "# 실행하면 약 2초 정도 걸림 (순차 실행이면 6초였을 것)\n",
    "demonstrate_gil_release()"
   ],
   "id": "6a1988de6002a62c",
   "outputs": [
    {
     "name": "stdout",
     "output_type": "stream",
     "text": [
      "태스크 0: 시작 (스레드 Thread-8 (io_task))\n",
      "\n",
      "태스크 1: 시작 (스레드 Thread-9 (io_task))\n",
      "\n",
      "태스크 2: 시작 (스레드 Thread-10 (io_task))\n",
      "\n",
      "태스크 0: 완료 (스레드 Thread-8 (io_task))\n",
      "태스크 2: 완료 (스레드 Thread-10 (io_task))\n",
      "태스크 1: 완료 (스레드 Thread-9 (io_task))\n",
      "멀티스레드 총 시간: 4.26초\n"
     ]
    }
   ],
   "execution_count": 9
  },
  {
   "metadata": {
    "ExecuteTime": {
     "end_time": "2025-07-31T00:33:39.018975Z",
     "start_time": "2025-07-31T00:33:37.982280Z"
    }
   },
   "cell_type": "code",
   "source": [
    "import threading\n",
    "import asyncio\n",
    "import multiprocessing\n",
    "import os\n",
    "\n",
    "def demonstrate_what_runs_where():\n",
    "    \"\"\"각각이 어디서 실행되는지 확인\"\"\"\n",
    "\n",
    "    print(\"=== 현재 상황 확인 ===\")\n",
    "    print(f\"프로세스 ID: {os.getpid()}\")\n",
    "    print(f\"메인 스레드: {threading.current_thread().name}\")\n",
    "    print(f\"활성 스레드 수: {threading.active_count()}\")\n",
    "\n",
    "    # 1. 멀티스레드 생성\n",
    "    def thread_worker(name):\n",
    "        print(f\"스레드 {name} - 프로세스: {os.getpid()}, 스레드: {threading.current_thread().name}\")\n",
    "        time.sleep(1)\n",
    "\n",
    "    print(\"\\n=== 멀티스레드 실행 ===\")\n",
    "    threads = []\n",
    "    for i in range(3):\n",
    "        t = threading.Thread(target=thread_worker, args=(f\"T{i}\",))\n",
    "        threads.append(t)\n",
    "        t.start()\n",
    "\n",
    "    for t in threads:\n",
    "        t.join()\n",
    "\n",
    "    print(f\"스레드 작업 후 활성 스레드 수: {threading.active_count()}\")\n",
    "\n",
    "    # 2. 비동기 실행\n",
    "    async def async_worker(name):\n",
    "        print(f\"비동기 {name} - 프로세스: {os.getpid()}, 스레드: {threading.current_thread().name}\")\n",
    "        await asyncio.sleep(1)\n",
    "\n",
    "    async def run_async_tasks():\n",
    "        print(\"\\n=== 비동기 실행 ===\")\n",
    "        await asyncio.gather(\n",
    "            async_worker(\"A1\"),\n",
    "            async_worker(\"A2\"),\n",
    "            async_worker(\"A3\")\n",
    "        )\n",
    "        print(f\"비동기 작업 후 활성 스레드 수: {threading.active_count()}\")\n",
    "\n",
    "    asyncio.run(run_async_tasks())\n",
    "\n",
    "demonstrate_what_runs_where()"
   ],
   "id": "cb630526ddea6195",
   "outputs": [
    {
     "name": "stdout",
     "output_type": "stream",
     "text": [
      "=== 현재 상황 확인 ===\n",
      "프로세스 ID: 93783\n",
      "메인 스레드: MainThread\n",
      "활성 스레드 수: 9\n",
      "\n",
      "=== 멀티스레드 실행 ===\n",
      "스레드 T0 - 프로세스: 93783, 스레드: Thread-11 (thread_worker)\n",
      "스레드 T1 - 프로세스: 93783, 스레드: Thread-12 (thread_worker)\n",
      "스레드 T2 - 프로세스: 93783, 스레드: Thread-13 (thread_worker)\n",
      "스레드 작업 후 활성 스레드 수: 9\n"
     ]
    },
    {
     "ename": "RuntimeError",
     "evalue": "asyncio.run() cannot be called from a running event loop",
     "output_type": "error",
     "traceback": [
      "\u001B[31m---------------------------------------------------------------------------\u001B[39m",
      "\u001B[31mRuntimeError\u001B[39m                              Traceback (most recent call last)",
      "\u001B[36mCell\u001B[39m\u001B[36m \u001B[39m\u001B[32mIn[11]\u001B[39m\u001B[32m, line 47\u001B[39m\n\u001B[32m     43\u001B[39m         \u001B[38;5;28mprint\u001B[39m(\u001B[33mf\u001B[39m\u001B[33m\"\u001B[39m\u001B[33m비동기 작업 후 활성 스레드 수: \u001B[39m\u001B[38;5;132;01m{\u001B[39;00mthreading.active_count()\u001B[38;5;132;01m}\u001B[39;00m\u001B[33m\"\u001B[39m)\n\u001B[32m     45\u001B[39m     asyncio.run(run_async_tasks())\n\u001B[32m---> \u001B[39m\u001B[32m47\u001B[39m \u001B[43mdemonstrate_what_runs_where\u001B[49m\u001B[43m(\u001B[49m\u001B[43m)\u001B[49m\n",
      "\u001B[36mCell\u001B[39m\u001B[36m \u001B[39m\u001B[32mIn[11]\u001B[39m\u001B[32m, line 45\u001B[39m, in \u001B[36mdemonstrate_what_runs_where\u001B[39m\u001B[34m()\u001B[39m\n\u001B[32m     38\u001B[39m     \u001B[38;5;28;01mawait\u001B[39;00m asyncio.gather(\n\u001B[32m     39\u001B[39m         async_worker(\u001B[33m\"\u001B[39m\u001B[33mA1\u001B[39m\u001B[33m\"\u001B[39m),\n\u001B[32m     40\u001B[39m         async_worker(\u001B[33m\"\u001B[39m\u001B[33mA2\u001B[39m\u001B[33m\"\u001B[39m), \n\u001B[32m     41\u001B[39m         async_worker(\u001B[33m\"\u001B[39m\u001B[33mA3\u001B[39m\u001B[33m\"\u001B[39m)\n\u001B[32m     42\u001B[39m     )\n\u001B[32m     43\u001B[39m     \u001B[38;5;28mprint\u001B[39m(\u001B[33mf\u001B[39m\u001B[33m\"\u001B[39m\u001B[33m비동기 작업 후 활성 스레드 수: \u001B[39m\u001B[38;5;132;01m{\u001B[39;00mthreading.active_count()\u001B[38;5;132;01m}\u001B[39;00m\u001B[33m\"\u001B[39m)\n\u001B[32m---> \u001B[39m\u001B[32m45\u001B[39m \u001B[43masyncio\u001B[49m\u001B[43m.\u001B[49m\u001B[43mrun\u001B[49m\u001B[43m(\u001B[49m\u001B[43mrun_async_tasks\u001B[49m\u001B[43m(\u001B[49m\u001B[43m)\u001B[49m\u001B[43m)\u001B[49m\n",
      "\u001B[36mFile \u001B[39m\u001B[32m/Library/Frameworks/Python.framework/Versions/3.12/lib/python3.12/asyncio/runners.py:191\u001B[39m, in \u001B[36mrun\u001B[39m\u001B[34m(main, debug, loop_factory)\u001B[39m\n\u001B[32m    161\u001B[39m \u001B[38;5;250m\u001B[39m\u001B[33;03m\"\"\"Execute the coroutine and return the result.\u001B[39;00m\n\u001B[32m    162\u001B[39m \n\u001B[32m    163\u001B[39m \u001B[33;03mThis function runs the passed coroutine, taking care of\u001B[39;00m\n\u001B[32m   (...)\u001B[39m\u001B[32m    187\u001B[39m \u001B[33;03m    asyncio.run(main())\u001B[39;00m\n\u001B[32m    188\u001B[39m \u001B[33;03m\"\"\"\u001B[39;00m\n\u001B[32m    189\u001B[39m \u001B[38;5;28;01mif\u001B[39;00m events._get_running_loop() \u001B[38;5;129;01mis\u001B[39;00m \u001B[38;5;129;01mnot\u001B[39;00m \u001B[38;5;28;01mNone\u001B[39;00m:\n\u001B[32m    190\u001B[39m     \u001B[38;5;66;03m# fail fast with short traceback\u001B[39;00m\n\u001B[32m--> \u001B[39m\u001B[32m191\u001B[39m     \u001B[38;5;28;01mraise\u001B[39;00m \u001B[38;5;167;01mRuntimeError\u001B[39;00m(\n\u001B[32m    192\u001B[39m         \u001B[33m\"\u001B[39m\u001B[33masyncio.run() cannot be called from a running event loop\u001B[39m\u001B[33m\"\u001B[39m)\n\u001B[32m    194\u001B[39m \u001B[38;5;28;01mwith\u001B[39;00m Runner(debug=debug, loop_factory=loop_factory) \u001B[38;5;28;01mas\u001B[39;00m runner:\n\u001B[32m    195\u001B[39m     \u001B[38;5;28;01mreturn\u001B[39;00m runner.run(main)\n",
      "\u001B[31mRuntimeError\u001B[39m: asyncio.run() cannot be called from a running event loop"
     ]
    }
   ],
   "execution_count": 11
  },
  {
   "metadata": {
    "ExecuteTime": {
     "end_time": "2025-07-31T01:10:12.272429Z",
     "start_time": "2025-07-31T01:10:12.269144Z"
    }
   },
   "cell_type": "code",
   "source": [
    "import multiprocessing\n",
    "print(multiprocessing.cpu_count())"
   ],
   "id": "b61e01441ee594d5",
   "outputs": [
    {
     "name": "stdout",
     "output_type": "stream",
     "text": [
      "14\n"
     ]
    }
   ],
   "execution_count": 12
  },
  {
   "metadata": {},
   "cell_type": "code",
   "outputs": [],
   "execution_count": null,
   "source": "",
   "id": "3530ed05231c2efb"
  }
 ],
 "metadata": {
  "kernelspec": {
   "display_name": "Python 3",
   "language": "python",
   "name": "python3"
  },
  "language_info": {
   "codemirror_mode": {
    "name": "ipython",
    "version": 2
   },
   "file_extension": ".py",
   "mimetype": "text/x-python",
   "name": "python",
   "nbconvert_exporter": "python",
   "pygments_lexer": "ipython2",
   "version": "2.7.6"
  }
 },
 "nbformat": 4,
 "nbformat_minor": 5
}
